{
 "cells": [
  {
   "cell_type": "code",
   "execution_count": 1,
   "metadata": {},
   "outputs": [],
   "source": [
    "'''\n",
    "/* ----------------------------------------------------------------------------\n",
    " * Copyright 2023, CURLY Lab, University of Michigan\n",
    " * All Rights Reserved\n",
    " * See LICENSE for the license information\n",
    " * -------------------------------------------------------------------------- */\n",
    "\n",
    "/**\n",
    " *  @file   run_neya_MEKF.py\n",
    " *  @author Wenzhe Tong\n",
    " *  @brief  Multiplicative EKF\n",
    " *  @date   August 4, 2023\n",
    " **/\n",
    "'''\n",
    "\n",
    "from MEKF import *\n",
    "import os"
   ]
  },
  {
   "cell_type": "code",
   "execution_count": 5,
   "metadata": {},
   "outputs": [
    {
     "name": "stdout",
     "output_type": "stream",
     "text": [
      "Processing: follow /media/justin/DATA/data/neya/paintball/follow_general_2022-12-01-15-44-43_0.bag\n",
      "imu data shape:  (63357, 11)\n",
      "imu data frequency:  198.93750879068372\n",
      "vel data shape:  (15933, 4)\n",
      "vel data frequency:  50.002029287545476\n",
      "[-0.14576548 -0.06385911  9.62389437]\n",
      "[-0.14576548 -0.06385911 -0.18610563]\n",
      "bias_initialized as:  [ 1.57418214e-05 -1.09695648e-04 -7.28956014e-04] [ 0.06385911 -0.14576548 -0.18610563]\n"
     ]
    },
    {
     "name": "stderr",
     "output_type": "stream",
     "text": [
      "100%|██████████| 63356/63356 [00:20<00:00, 3164.27it/s]\n"
     ]
    },
    {
     "name": "stdout",
     "output_type": "stream",
     "text": [
      "Processing: hill_loop_dynamic /media/justin/DATA/data/neya/paintball/hill_loop_dynamic_general_2022-12-01-16-10-10_0.bag\n",
      "imu data shape:  (26814, 11)\n",
      "imu data frequency:  198.9382871799949\n",
      "vel data shape:  (6748, 4)\n",
      "vel data frequency:  50.01676274423788\n",
      "[-3.79159288e-01 -8.90489238e-03  9.61865942e+00]\n",
      "[-0.37915929 -0.00890489 -0.19134058]\n",
      "bias_initialized as:  [ 1.12785021e-04 -5.49566923e-05 -1.22364813e-04] [ 0.00890489 -0.37915929 -0.19134058]\n"
     ]
    },
    {
     "name": "stderr",
     "output_type": "stream",
     "text": [
      "100%|██████████| 26813/26813 [00:08<00:00, 3131.30it/s]\n"
     ]
    },
    {
     "name": "stdout",
     "output_type": "stream",
     "text": [
      "Processing: hill_loop /media/justin/DATA/data/neya/paintball/hill_loop_general_2022-12-01-15-30-02_0.bag\n",
      "imu data shape:  (32037, 11)\n",
      "imu data frequency:  198.9129307888899\n",
      "vel data shape:  (8059, 4)\n",
      "vel data frequency:  50.00000130482249\n",
      "[0.34366544 0.21397998 9.57083463]\n",
      "[ 0.34366544  0.21397998 -0.23916537]\n",
      "bias_initialized as:  [4.32717782e-05 3.81288757e-05 2.97205418e-05] [-0.21397998  0.34366544 -0.23916537]\n"
     ]
    },
    {
     "name": "stderr",
     "output_type": "stream",
     "text": [
      "100%|██████████| 32036/32036 [00:10<00:00, 3180.10it/s]\n"
     ]
    },
    {
     "name": "stdout",
     "output_type": "stream",
     "text": [
      "Processing: leader_follow_2 /media/justin/DATA/data/neya/paintball/leader_follow_2_general_2022-12-01-16-02-59_0.bag\n",
      "imu data shape:  (25003, 11)\n",
      "imu data frequency:  198.93726596884676\n",
      "vel data shape:  (6291, 4)\n",
      "vel data frequency:  50.00000390415192\n",
      "[ 0.48873121 -1.00893803  9.56132796]\n",
      "[ 0.48873121 -1.00893803 -0.24867204]\n",
      "bias_initialized as:  [ 1.46647929e-04 -3.09910807e-05  9.86143497e-05] [ 1.00893803  0.48873121 -0.24867204]\n"
     ]
    },
    {
     "name": "stderr",
     "output_type": "stream",
     "text": [
      "100%|██████████| 25002/25002 [00:05<00:00, 4347.54it/s]\n"
     ]
    },
    {
     "name": "stdout",
     "output_type": "stream",
     "text": [
      "Processing: leader_follow /media/justin/DATA/data/neya/paintball/leader_follow_general_2022-12-01-15-54-24_0.bag\n",
      "imu data shape:  (84812, 11)\n",
      "imu data frequency:  198.93722846553345\n",
      "vel data shape:  (21325, 4)\n",
      "vel data frequency:  50.00004458109398\n",
      "[-0.37070822 -0.11818134  9.6207374 ]\n",
      "[-0.37070822 -0.11818134 -0.1892626 ]\n",
      "bias_initialized as:  [-1.42666698e-06 -7.95789510e-05  1.46358574e-05] [ 0.11818134 -0.37070822 -0.1892626 ]\n"
     ]
    },
    {
     "name": "stderr",
     "output_type": "stream",
     "text": [
      "100%|██████████| 84811/84811 [00:27<00:00, 3106.23it/s]\n"
     ]
    },
    {
     "name": "stdout",
     "output_type": "stream",
     "text": [
      "Processing: long_dynamic /media/justin/DATA/data/neya/paintball/long_dynamic_general_2022-12-01-15-10-54_0.bag\n",
      "imu data shape:  (110653, 11)\n",
      "imu data frequency:  198.93714669085608\n",
      "vel data shape:  (27818, 4)\n",
      "vel data frequency:  49.999986187033976\n",
      "[-0.61039419 -0.01225448  9.61517747]\n",
      "[-0.61039419 -0.01225448 -0.19482253]\n",
      "bias_initialized as:  [-9.70532661e-05 -1.16661808e-04  3.45101358e-04] [ 0.01225448 -0.61039419 -0.19482253]\n"
     ]
    },
    {
     "name": "stderr",
     "output_type": "stream",
     "text": [
      "100%|██████████| 110652/110652 [00:35<00:00, 3136.95it/s]\n"
     ]
    },
    {
     "name": "stdout",
     "output_type": "stream",
     "text": [
      "Processing: long_run_1 /media/justin/DATA/data/neya/paintball/long_run_1_general_2022-12-01-14-58-21_0.bag\n",
      "imu data shape:  (120791, 11)\n",
      "imu data frequency:  198.9374786506058\n",
      "vel data shape:  (30366, 4)\n",
      "vel data frequency:  50.00220086956273\n",
      "[-0.1692731  -0.08963957  9.65672169]\n",
      "[-0.1692731  -0.08963957 -0.15327831]\n",
      "bias_initialized as:  [-2.62104203e-05 -2.34954380e-05  5.44645009e-06] [ 0.08963957 -0.1692731  -0.15327831]\n"
     ]
    },
    {
     "name": "stderr",
     "output_type": "stream",
     "text": [
      "100%|██████████| 120790/120790 [00:38<00:00, 3158.60it/s]\n"
     ]
    },
    {
     "name": "stdout",
     "output_type": "stream",
     "text": [
      "Processing: peek_a_boo /media/justin/DATA/data/neya/paintball/peek_a_boo_general_2022-12-01-15-23-44_0.bag\n",
      "imu data shape:  (36097, 11)\n",
      "imu data frequency:  198.91355317059822\n",
      "vel data shape:  (9082, 4)\n",
      "vel data frequency:  50.01402263948284\n",
      "[-0.96290462  0.2024059   9.52504097]\n",
      "[-0.96290462  0.2024059  -0.28495903]\n",
      "bias_initialized as:  [-5.93671793e-04  2.00230754e-05 -1.21365342e-03] [-0.2024059  -0.96290462 -0.28495903]\n"
     ]
    },
    {
     "name": "stderr",
     "output_type": "stream",
     "text": [
      "100%|██████████| 36096/36096 [00:11<00:00, 3125.46it/s]\n"
     ]
    },
    {
     "name": "stdout",
     "output_type": "stream",
     "text": [
      "Processing: suddenly_appear /media/justin/DATA/data/neya/paintball/suddenly_appear_general_2022-12-01-15-38-34_0.bag\n",
      "imu data shape:  (27883, 11)\n",
      "imu data frequency:  198.91303914051574\n",
      "vel data shape:  (7015, 4)\n",
      "vel data frequency:  50.00780982924712\n",
      "[ 0.21394802 -0.0597466   9.60618885]\n",
      "[ 0.21394802 -0.0597466  -0.20381115]\n",
      "bias_initialized as:  [ 5.20072551e-05 -1.74370662e-04  1.26218852e-05] [ 0.0597466   0.21394802 -0.20381115]\n"
     ]
    },
    {
     "name": "stderr",
     "output_type": "stream",
     "text": [
      "100%|██████████| 27882/27882 [00:09<00:00, 2995.66it/s]\n"
     ]
    },
    {
     "name": "stdout",
     "output_type": "stream",
     "text": [
      "Processing: doughnut_1 /media/justin/DATA/data/neya/pelenor/doughnut_1_general_2022-12-01-10-16-39_0.bag\n",
      "imu data shape:  (29978, 11)\n",
      "imu data frequency:  198.937540255206\n",
      "vel data shape:  (7543, 4)\n",
      "vel data frequency:  50.00928401762056\n",
      "[-0.27797527 -0.345282    9.61501016]\n",
      "[-0.27797527 -0.345282   -0.19498984]\n",
      "bias_initialized as:  [-0.00031799 -0.00017758 -0.00020133] [ 0.345282   -0.27797527 -0.19498984]\n"
     ]
    },
    {
     "name": "stderr",
     "output_type": "stream",
     "text": [
      "100%|██████████| 29977/29977 [00:08<00:00, 3582.45it/s]\n"
     ]
    },
    {
     "name": "stdout",
     "output_type": "stream",
     "text": [
      "Processing: high_speed_loop /media/justin/DATA/data/neya/pelenor/high_speed_loop_general_2022-12-01-10-12-17_0.bag\n",
      "imu data shape:  (14259, 11)\n",
      "imu data frequency:  198.93816114318054\n",
      "vel data shape:  (3591, 4)\n",
      "vel data frequency:  50.01071456184518\n",
      "[ 0.26460762 -0.06422866  9.64406826]\n",
      "[ 0.26460762 -0.06422866 -0.16593174]\n",
      "bias_initialized as:  [-3.15890735e-04 -7.49327042e-05  3.23029884e-04] [ 0.06422866  0.26460762 -0.16593174]\n"
     ]
    },
    {
     "name": "stderr",
     "output_type": "stream",
     "text": [
      "100%|██████████| 14258/14258 [00:04<00:00, 3043.39it/s]\n"
     ]
    },
    {
     "name": "stdout",
     "output_type": "stream",
     "text": [
      "Processing: low_speed_loop /media/justin/DATA/data/neya/pelenor/low_speed_loop_general_2022-12-01-10-09-04_0.bag\n",
      "imu data shape:  (30368, 11)\n",
      "imu data frequency:  198.937726553926\n",
      "vel data shape:  (7641, 4)\n",
      "vel data frequency:  50.011488797564\n",
      "[ 0.28728302 -0.37559708  9.64339701]\n",
      "[ 0.28728302 -0.37559708 -0.16660299]\n",
      "bias_initialized as:  [ 2.63113528e-07  5.22112921e-05 -1.31969943e-04] [ 0.37559708  0.28728302 -0.16660299]\n"
     ]
    },
    {
     "name": "stderr",
     "output_type": "stream",
     "text": [
      "100%|██████████| 30367/30367 [00:08<00:00, 3395.54it/s]\n"
     ]
    }
   ],
   "source": [
    "root_path = \"/media/justin/DATA/data/neya/\"\n",
    "directory_name = [\"paintball\", \"pelenor\"]\n",
    "directory_names = [root_path+_ for _ in directory_name]\n",
    "\n",
    "topic_name = '/mrzr/localization/piksi_attitude/navsatfix_spp'\n",
    "acc_cov = 0.1 # check in datasheet\n",
    "gyro_cov = 0.01 # check in datasheet\n",
    "wheel_encoder_cov = 0.5 # check in rosbag\n",
    "\n",
    "for dir_name in directory_names:\n",
    "    for filename in os.listdir(dir_name):\n",
    "        if filename.endswith(\".bag\"):\n",
    "            short_filename = filename.split(\"_general\")[0]\n",
    "            print(\"Processing: \"+short_filename+\" \"+dir_name+\"/\"+filename)\n",
    "            if not os.path.exists(root_path+\"/result/\"+short_filename):\n",
    "                os.makedirs(root_path+\"/result/\"+short_filename)\n",
    "            bag = rosbag.Bag(dir_name+\"/\"+filename)\n",
    "            \n",
    "            ################### Initialization #####################\n",
    "            ##### Neya #####\n",
    "            imu_data = read_imu(bag, \"/mrzr/localization/imu/imu\") # neya\n",
    "            vel_data = read_vel(bag, \"/mrzr/localization/wheel_encoder/twist\") # neya\n",
    "            # R_imu2body = quat2rot([1., 0., 0., 0.]) # neya #TODO: need to check\n",
    "            R_imu2body = quat2rot([0.7071068, 0, 0, 0.7071068])\n",
    "            # TODO: add bias initialization\n",
    "            # acc_bias = np.array([0.01,   -0.0642287,    -0.155932]).reshape(3)\n",
    "            # gyro_bias = np.array([-7.49327e-05,  0.000315891,   0.00032303]).reshape(3)\n",
    "\n",
    "            gyro_bias, acc_bias= init_bias(imu_data, R_imu2body,250)\n",
    "            print(\"bias_initialized as: \",gyro_bias, acc_bias)\n",
    "\n",
    "            t_imu = imu_data[:, 0]\n",
    "            gyro_data = imu_data[:, 1:4]\n",
    "            acc_data = imu_data[:, 4:7]\n",
    "            \n",
    "            t_vel = vel_data[:, 0]\n",
    "            vel_data = vel_data[:, 1:4]\n",
    "            # gyro_data = ((gyro_data.T)).T\n",
    "            # acc_data = ((acc_data.T)).T\n",
    "            # quat_data = \n",
    "\n",
    "            g = np.array([0, 0, 9.81]).reshape(3)\n",
    "\n",
    "            # init state\n",
    "            # X = [p, v, q]\n",
    "            p_est = np.zeros([imu_data.shape[0], 3]) # position estimates\n",
    "            v_est = np.zeros([imu_data.shape[0], 3]) # velocity estimates\n",
    "            q_est = np.zeros([imu_data.shape[0], 4]) # quaternion estimates\n",
    "            p_cov = np.zeros([imu_data.shape[0], 9, 9]) # state covariance\n",
    "\n",
    "            p_est[0] = np.array([0, 0, 0])\n",
    "            v_est[0] = np.array([0, 0, 0])\n",
    "            q_est[0] = np.array([1, 0, 0, 0])\n",
    "            p_cov[0] = np.zeros([9, 9])\n",
    "            \n",
    "            \n",
    "            ################## Main loop ################            \n",
    "            i = 0\n",
    "            for k in tqdm(range(1, t_imu.shape[0])): # start at 1 because we have initial state\n",
    "                # Time difference\n",
    "                dt = t_imu[k] - t_imu[k-1]\n",
    "                \n",
    "                # 1. Update state with IMU inputs\n",
    "                R_ns = quat2rot(q_est[k-1, :])\n",
    "                f_ns = (R_ns @ (R_imu2body @ acc_data[k]-acc_bias).reshape((3,1))) - g.reshape((3,1)) # acc_bias in body frame\n",
    "                assert f_ns.shape == (3,1)\n",
    "                \n",
    "                p_ = p_est[k-1, :].reshape((3,1)) + (v_est[k-1, :]*dt).reshape((3,1)) + 0.5*f_ns*dt**2 \n",
    "                v_ = v_est[k-1, :].reshape((3,1)) + f_ns*dt\n",
    "                R_predict = R_ns @ expm(skew_symmetric((R_imu2body@gyro_data[k]-gyro_bias)*dt))\n",
    "                q_ = rot2quat(R_predict).reshape((4,1))\n",
    "                \n",
    "                \n",
    "                zero = np.zeros((3,3))\n",
    "                I = np.eye(3)\n",
    "                F = expm( np.block([[ zero ,   I,                                            zero],\n",
    "                                    [ zero ,   zero, -R_predict @ skew_symmetric(R_imu2body@acc_data[k] - acc_bias)],\n",
    "                                    [ zero ,   zero,      -skew_symmetric(R_imu2body@gyro_data[k]-gyro_bias)]])*dt )\n",
    "\n",
    "                q_cov = np.zeros([9, 9]) # IMU noise covariance\n",
    "                q_cov[0:3, 0:3] = 0.000001*np.eye(3)\n",
    "                q_cov[3:6, 3:6] = acc_cov * np.eye(3) *dt**2\n",
    "                q_cov[6:9, 6:9] = gyro_cov * np.eye(3) *dt**2\n",
    "                \n",
    "                l_jac = np.zeros((9,6))\n",
    "                l_jac[3:, :] = np.eye(6) # motion model noise jacobian\n",
    "                p_cov_ = F @ p_cov[k-1, :, :] @ F.T + q_cov \n",
    "                \n",
    "                if i<vel_data.shape[0] and t_imu[k] >= t_vel[i]:\n",
    "                    p_, v_, q_, p_cov_ = measurement_update(wheel_encoder_cov, vel_data[i, :].reshape((3,1)), p_cov_, p_, v_, q_)\n",
    "                    i+=1\n",
    "                \n",
    "                # 1.4 update states\n",
    "                p_est[k, :] = p_.T\n",
    "                v_est[k, :] = v_.T\n",
    "                q_est[k, :] = q_.T\n",
    "                p_cov[k, :, :] = p_cov_.T\n",
    "            \n",
    "            save_pose_to_tum(t_imu, p_est, q_est, filename=root_path+\"/result/\"+short_filename+\"/mekf.txt\")\n"
   ]
  },
  {
   "cell_type": "code",
   "execution_count": null,
   "metadata": {},
   "outputs": [],
   "source": [
    "\n",
    "i = 0\n",
    "for k in tqdm(range(1, t_imu.shape[0])): # start at 1 because we have initial state\n",
    "    # Time difference\n",
    "\n",
    "    dt = t_imu[k] - t_imu[k-1]\n",
    "    \n",
    "    # 1. Update state with IMU inputs\n",
    "    # q_prev = Quaternion(*q_est[k-1, :])\n",
    "    # q_curr = Quaternion(axis_angle=(gyro_data[k]-gyro_bias)*dt)\n",
    "    # R_ns = q_prev.to_mat()\n",
    "    R_ns = quat2rot(q_est[k-1, :])\n",
    "    f_ns = (R_ns @ (R_imu2body @ acc_data[k]-acc_bias).reshape((3,1))) - g.reshape((3,1)) # acc_bias in body frame\n",
    "    # print(R_ns @ (R_imu2body @ acc_data[k]-acc_bias).reshape((3,1)))\n",
    "    # print(f_ns)\n",
    "    # print(\"-------\")    \n",
    "    assert f_ns.shape == (3,1)\n",
    "    \n",
    "    p_ = p_est[k-1, :].reshape((3,1)) + (v_est[k-1, :]*dt).reshape((3,1)) + 0.5*f_ns*dt**2 \n",
    "    v_ = v_est[k-1, :].reshape((3,1)) + f_ns*dt\n",
    "    # q_ = q_prev.quat_mult_left(q_curr).reshape((4,1))\n",
    "    R_predict = R_ns @ expm(skew_symmetric((R_imu2body@gyro_data[k]-gyro_bias)*dt))\n",
    "    # print(gyro_data[k])\n",
    "    # print(\"---\")\n",
    "    q_ = rot2quat(R_predict).reshape((4,1))\n",
    "    \n",
    "    # 1.1 get motion model Jacobian\n",
    "    # F = np.eye(9)\n",
    "    # F[0:3, 3:6] = np.eye(3)*dt\n",
    "    # F[3:6, 6:9] = -R_ns @ skew_symmetric((acc_data[k]-acc_bias))*dt\n",
    "    # F[6:9, 6:9] = Quaternion(aq_xis_angle=(gyro_data[k]-gyro_bias)*dt).to_mat().T\n",
    "    \n",
    "    zero = np.zeros((3,3))\n",
    "    I = np.eye(3)\n",
    "    F = expm( np.block([[ zero ,   I,                                            zero],\n",
    "                        [ zero ,   zero, -R_predict @ skew_symmetric(R_imu2body@acc_data[k] - acc_bias)],\n",
    "                        [ zero ,   zero,      -skew_symmetric(R_imu2body@gyro_data[k]-gyro_bias)]])*dt )\n",
    "\n",
    "    # 1.2 uncertainty propagation\n",
    "    q_cov = np.zeros([9, 9]) # IMU noise covariance\n",
    "    q_cov[0:3, 0:3] = 0.000001*np.eye(3)\n",
    "    q_cov[3:6, 3:6] = acc_cov * np.eye(3) *dt**2\n",
    "    q_cov[6:9, 6:9] = gyro_cov * np.eye(3) *dt**2\n",
    "    \n",
    "    l_jac = np.zeros((9,6))\n",
    "    l_jac[3:, :] = np.eye(6) # motion model noise jacobian\n",
    "    p_cov_ = F @ p_cov[k-1, :, :] @ F.T + q_cov \n",
    "    \n",
    "    # # 1.3 velocity update\n",
    "    # if(k<t_vel.shape[0] and abs(t_imu[k]-t_vel[i]) <= abs(t_imu[k+1]-t_vel[i]) and i<vel_data.shape[0]):\n",
    "    #     p_, v_, q_, p_cov_ = measurement_update(wheel_encoder_cov, vel_data[i, :].reshape((3,1)), p_cov_, p_, v_, q_)\n",
    "    #     i+=1\n",
    "    if i<vel_data.shape[0] and t_imu[k] >= t_vel[i]:\n",
    "        p_, v_, q_, p_cov_ = measurement_update(wheel_encoder_cov, vel_data[i, :].reshape((3,1)), p_cov_, p_, v_, q_)\n",
    "        i+=1\n",
    "    \n",
    "    # 1.4 update states\n",
    "    p_est[k, :] = p_.T\n",
    "    v_est[k, :] = v_.T\n",
    "    q_est[k, :] = q_.T\n",
    "    p_cov[k, :, :] = p_cov_.T\n"
   ]
  },
  {
   "cell_type": "code",
   "execution_count": null,
   "metadata": {},
   "outputs": [],
   "source": [
    "save_pose_to_tum(t_imu, p_est, q_est, filename='tum_estimated.txt')"
   ]
  }
 ],
 "metadata": {
  "kernelspec": {
   "display_name": "Python 3",
   "language": "python",
   "name": "python3"
  },
  "language_info": {
   "codemirror_mode": {
    "name": "ipython",
    "version": 3
   },
   "file_extension": ".py",
   "mimetype": "text/x-python",
   "name": "python",
   "nbconvert_exporter": "python",
   "pygments_lexer": "ipython3",
   "version": "3.8.10"
  },
  "orig_nbformat": 4,
  "vscode": {
   "interpreter": {
    "hash": "916dbcbb3f70747c44a77c7bcd40155683ae19c65e1c03b4aa3499c5328201f1"
   }
  }
 },
 "nbformat": 4,
 "nbformat_minor": 2
}

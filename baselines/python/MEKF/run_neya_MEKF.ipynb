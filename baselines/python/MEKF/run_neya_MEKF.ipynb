{
 "cells": [
  {
   "cell_type": "code",
   "execution_count": 6,
   "metadata": {},
   "outputs": [],
   "source": [
    "from MEKF import *\n",
    "import os"
   ]
  },
  {
   "cell_type": "code",
   "execution_count": 10,
   "metadata": {},
   "outputs": [
    {
     "name": "stdout",
     "output_type": "stream",
     "text": [
      "Processing: follow /media/jonathan/SamsungSSD/tro_data/neya/neya_data/paintball/follow_general_2022-12-01-15-44-43_0.bag\n",
      "imu data shape:  (63357, 11)\n",
      "imu data frequency:  198.93750879068372\n",
      "vel data shape:  (15933, 4)\n",
      "vel data frequency:  50.002029287545476\n"
     ]
    },
    {
     "name": "stderr",
     "output_type": "stream",
     "text": [
      "100%|██████████| 63356/63356 [00:25<00:00, 2436.91it/s]\n"
     ]
    },
    {
     "name": "stdout",
     "output_type": "stream",
     "text": [
      "(6336,) (6336,) (6336,) (6336,) (6336,) (6336,) (6336,) (6336,)\n",
      "Processing: hill_loop_dynamic /media/jonathan/SamsungSSD/tro_data/neya/neya_data/paintball/hill_loop_dynamic_general_2022-12-01-16-10-10_0.bag\n",
      "imu data shape:  (26814, 11)\n",
      "imu data frequency:  198.9382871799949\n",
      "vel data shape:  (6748, 4)\n",
      "vel data frequency:  50.01676274423788\n"
     ]
    },
    {
     "name": "stderr",
     "output_type": "stream",
     "text": [
      "100%|██████████| 26813/26813 [00:10<00:00, 2539.81it/s]\n"
     ]
    },
    {
     "name": "stdout",
     "output_type": "stream",
     "text": [
      "(2682,) (2682,) (2682,) (2682,) (2682,) (2682,) (2682,) (2682,)\n",
      "Processing: hill_loop /media/jonathan/SamsungSSD/tro_data/neya/neya_data/paintball/hill_loop_general_2022-12-01-15-30-02_0.bag\n",
      "imu data shape:  (32037, 11)\n",
      "imu data frequency:  198.9129307888899\n",
      "vel data shape:  (8059, 4)\n",
      "vel data frequency:  50.00000130482249\n"
     ]
    },
    {
     "name": "stderr",
     "output_type": "stream",
     "text": [
      "100%|██████████| 32036/32036 [00:13<00:00, 2289.56it/s]\n"
     ]
    },
    {
     "name": "stdout",
     "output_type": "stream",
     "text": [
      "(3204,) (3204,) (3204,) (3204,) (3204,) (3204,) (3204,) (3204,)\n",
      "Processing: leader_follow_2 /media/jonathan/SamsungSSD/tro_data/neya/neya_data/paintball/leader_follow_2_general_2022-12-01-16-02-59_0.bag\n",
      "imu data shape:  (25003, 11)\n",
      "imu data frequency:  198.93726596884676\n",
      "vel data shape:  (6291, 4)\n",
      "vel data frequency:  50.00000390415192\n"
     ]
    },
    {
     "name": "stderr",
     "output_type": "stream",
     "text": [
      "100%|██████████| 25002/25002 [00:11<00:00, 2241.99it/s]\n"
     ]
    },
    {
     "name": "stdout",
     "output_type": "stream",
     "text": [
      "(2501,) (2501,) (2501,) (2501,) (2501,) (2501,) (2501,) (2501,)\n",
      "Processing: leader_follow /media/jonathan/SamsungSSD/tro_data/neya/neya_data/paintball/leader_follow_general_2022-12-01-15-54-24_0.bag\n",
      "imu data shape:  (84812, 11)\n",
      "imu data frequency:  198.93722846553345\n",
      "vel data shape:  (21325, 4)\n",
      "vel data frequency:  50.00004458109398\n"
     ]
    },
    {
     "name": "stderr",
     "output_type": "stream",
     "text": [
      "100%|██████████| 84811/84811 [00:34<00:00, 2432.23it/s]\n"
     ]
    },
    {
     "name": "stdout",
     "output_type": "stream",
     "text": [
      "(8482,) (8482,) (8482,) (8482,) (8482,) (8482,) (8482,) (8482,)\n",
      "Processing: long_dynamic /media/jonathan/SamsungSSD/tro_data/neya/neya_data/paintball/long_dynamic_general_2022-12-01-15-10-54_0.bag\n",
      "imu data shape:  (110653, 11)\n",
      "imu data frequency:  198.93714669085608\n",
      "vel data shape:  (27818, 4)\n",
      "vel data frequency:  49.999986187033976\n"
     ]
    },
    {
     "name": "stderr",
     "output_type": "stream",
     "text": [
      "100%|██████████| 110652/110652 [00:42<00:00, 2599.32it/s]\n"
     ]
    },
    {
     "name": "stdout",
     "output_type": "stream",
     "text": [
      "(11066,) (11066,) (11066,) (11066,) (11066,) (11066,) (11066,) (11066,)\n",
      "Processing: long_run_1 /media/jonathan/SamsungSSD/tro_data/neya/neya_data/paintball/long_run_1_general_2022-12-01-14-58-21_0.bag\n",
      "imu data shape:  (120791, 11)\n",
      "imu data frequency:  198.9374786506058\n",
      "vel data shape:  (30366, 4)\n",
      "vel data frequency:  50.00220086956273\n"
     ]
    },
    {
     "name": "stderr",
     "output_type": "stream",
     "text": [
      "100%|██████████| 120790/120790 [00:48<00:00, 2514.78it/s]\n"
     ]
    },
    {
     "name": "stdout",
     "output_type": "stream",
     "text": [
      "(12080,) (12080,) (12080,) (12080,) (12080,) (12080,) (12080,) (12080,)\n",
      "Processing: peek_a_boo /media/jonathan/SamsungSSD/tro_data/neya/neya_data/paintball/peek_a_boo_general_2022-12-01-15-23-44_0.bag\n",
      "imu data shape:  (36097, 11)\n",
      "imu data frequency:  198.91355317059822\n",
      "vel data shape:  (9082, 4)\n",
      "vel data frequency:  50.01402263948284\n"
     ]
    },
    {
     "name": "stderr",
     "output_type": "stream",
     "text": [
      "100%|██████████| 36096/36096 [00:15<00:00, 2355.38it/s]\n"
     ]
    },
    {
     "name": "stdout",
     "output_type": "stream",
     "text": [
      "(3610,) (3610,) (3610,) (3610,) (3610,) (3610,) (3610,) (3610,)\n",
      "Processing: suddenly_appear /media/jonathan/SamsungSSD/tro_data/neya/neya_data/paintball/suddenly_appear_general_2022-12-01-15-38-34_0.bag\n",
      "imu data shape:  (27883, 11)\n",
      "imu data frequency:  198.91303914051574\n",
      "vel data shape:  (7015, 4)\n",
      "vel data frequency:  50.00780982924712\n"
     ]
    },
    {
     "name": "stderr",
     "output_type": "stream",
     "text": [
      "100%|██████████| 27882/27882 [00:12<00:00, 2259.79it/s]\n"
     ]
    },
    {
     "name": "stdout",
     "output_type": "stream",
     "text": [
      "(2789,) (2789,) (2789,) (2789,) (2789,) (2789,) (2789,) (2789,)\n",
      "Processing: doughnut_1 /media/jonathan/SamsungSSD/tro_data/neya/neya_data/pelenor/doughnut_1_general_2022-12-01-10-16-39_0.bag\n",
      "imu data shape:  (29978, 11)\n",
      "imu data frequency:  198.937540255206\n",
      "vel data shape:  (7543, 4)\n",
      "vel data frequency:  50.00928401762056\n"
     ]
    },
    {
     "name": "stderr",
     "output_type": "stream",
     "text": [
      "100%|██████████| 29977/29977 [00:12<00:00, 2332.05it/s]\n"
     ]
    },
    {
     "name": "stdout",
     "output_type": "stream",
     "text": [
      "(2998,) (2998,) (2998,) (2998,) (2998,) (2998,) (2998,) (2998,)\n",
      "Processing: high_speed_loop /media/jonathan/SamsungSSD/tro_data/neya/neya_data/pelenor/high_speed_loop_general_2022-12-01-10-12-17_0.bag\n",
      "imu data shape:  (14259, 11)\n",
      "imu data frequency:  198.93816114318054\n",
      "vel data shape:  (3591, 4)\n",
      "vel data frequency:  50.01071456184518\n"
     ]
    },
    {
     "name": "stderr",
     "output_type": "stream",
     "text": [
      "100%|██████████| 14258/14258 [00:06<00:00, 2254.87it/s]\n"
     ]
    },
    {
     "name": "stdout",
     "output_type": "stream",
     "text": [
      "(1426,) (1426,) (1426,) (1426,) (1426,) (1426,) (1426,) (1426,)\n",
      "Processing: low_speed_loop /media/jonathan/SamsungSSD/tro_data/neya/neya_data/pelenor/low_speed_loop_general_2022-12-01-10-09-04_0.bag\n",
      "imu data shape:  (30368, 11)\n",
      "imu data frequency:  198.937726553926\n",
      "vel data shape:  (7641, 4)\n",
      "vel data frequency:  50.011488797564\n"
     ]
    },
    {
     "name": "stderr",
     "output_type": "stream",
     "text": [
      "100%|██████████| 30367/30367 [00:12<00:00, 2438.53it/s]"
     ]
    },
    {
     "name": "stdout",
     "output_type": "stream",
     "text": [
      "(3037,) (3037,) (3037,) (3037,) (3037,) (3037,) (3037,) (3037,)\n"
     ]
    },
    {
     "name": "stderr",
     "output_type": "stream",
     "text": [
      "\n"
     ]
    }
   ],
   "source": [
    "root_path = \"/media/jonathan/SamsungSSD/tro_data/neya/neya_data/\"\n",
    "directory_name = [\"paintball\", \"pelenor\"]\n",
    "directory_names = [root_path+_ for _ in directory_name]\n",
    "\n",
    "topic_name = '/mrzr/localization/piksi_attitude/navsatfix_spp'\n",
    "\n",
    "for dir_name in directory_names:\n",
    "    for filename in os.listdir(dir_name):\n",
    "        if filename.endswith(\".bag\"):\n",
    "            short_filename = filename.split(\"_general\")[0]\n",
    "            print(\"Processing: \"+short_filename+\" \"+dir_name+\"/\"+filename)\n",
    "            if not os.path.exists(root_path+\"/result/\"+short_filename):\n",
    "                os.makedirs(root_path+\"/result/\"+short_filename)\n",
    "            bag = rosbag.Bag(dir_name+\"/\"+filename)\n",
    "            \n",
    "            ################### Initialization #####################\n",
    "            ##### Neya #####\n",
    "            imu_data = read_imu(bag, \"/mrzr/localization/imu/imu\") # neya\n",
    "            vel_data = read_vel(bag, \"/mrzr/localization/wheel_encoder/twist\") # neya\n",
    "            # R_imu2body = quat2rot([1., 0., 0., 0.]) # neya #TODO: need to check\n",
    "            R_imu2body = quat2rot([0.7071068, 0, 0, 0.7071068])\n",
    "            # TODO: add bias initialization\n",
    "            acc_bias = np.array([0.01,   -0.0642287,    -0.155932]).reshape(3)\n",
    "            gyro_bias = np.array([-7.49327e-05,  0.000315891,   0.00032303]).reshape(3)\n",
    "            acc_cov = 0.01 # check in datasheet\n",
    "            gyro_cov = 0.01 # check in datasheet\n",
    "            wheel_encoder_cov = 0.034 # check in rosbag\n",
    "            \n",
    "            ###### Husky #####\n",
    "            # imu_data = read_imu(bag, '/gx5_1/imu/data') # husky\n",
    "            # vel_data = read_husky(bag, \"/joint_states\") # husky\n",
    "            # R_imu2body = quat2rot([0, 0.7071068, -0.7071068, 0]) # husky\n",
    "            # acc_bias = np.array([0.452427  , -0.0680003,  -0.00248014]) # husky mair\n",
    "            # gyro_bias = np.array([0.0011257,  0.000182102, -0.000207972]) # husky mair\n",
    "            # acc_bias = np.array([ 0.361971,     0.249837,  -0.00240915]) # husky nw\n",
    "            # gyro_bias = np.array([0.0011879, -2.55878e-05,  -0.00049881  ]) # husky nw\n",
    "            # acc_cov = 0.01 # check in datasheet\n",
    "            # gyro_cov = 0.01 # check in datasheet\n",
    "            # wheel_encoder_cov = 0.034 # check in rosbag\n",
    "            \n",
    "            t_imu = imu_data[:, 0]\n",
    "            gyro_data = imu_data[:, 1:4]\n",
    "            acc_data = imu_data[:, 4:7]\n",
    "            \n",
    "            t_vel = vel_data[:, 0]\n",
    "            vel_data = vel_data[:, 1:4]\n",
    "            # gyro_data = ((gyro_data.T)).T\n",
    "            # acc_data = ((acc_data.T)).T\n",
    "            # quat_data = \n",
    "\n",
    "            g = np.array([0, 0, 9.81]).reshape(3)\n",
    "\n",
    "            # X = [p, v, q]\n",
    "            p_est = np.zeros([imu_data.shape[0], 3]) # position estimates\n",
    "            v_est = np.zeros([imu_data.shape[0], 3]) # velocity estimates\n",
    "            q_est = np.zeros([imu_data.shape[0], 4]) # quaternion estimates\n",
    "            p_cov = np.zeros([imu_data.shape[0], 9, 9]) # state covariance\n",
    "\n",
    "            p_est[0] = np.array([0, 0, 0])\n",
    "            v_est[0] = np.array([0, 0, 0])\n",
    "            q_est[0] = np.array([1, 0, 0, 0])\n",
    "            # q_est[0] = np.array([ 0.9990482, 0.0436194, 0, 0 ])\n",
    "            p_cov[0] = np.zeros([9, 9])\n",
    "            \n",
    "            \n",
    "            ################## Main loop ################            \n",
    "            i = 0\n",
    "            for k in tqdm(range(1, t_imu.shape[0])): # start at 1 because we have initial state\n",
    "                # Time difference\n",
    "                dt = t_imu[k] - t_imu[k-1]\n",
    "                \n",
    "                # 1. Update state with IMU inputs\n",
    "                R_ns = quat2rot(q_est[k-1, :])\n",
    "                f_ns = (R_ns @ (R_imu2body @ acc_data[k]-acc_bias).reshape((3,1))) - g.reshape((3,1)) # acc_bias in body frame\n",
    "                # print(R_ns @ (R_imu2body @ acc_data[k]-acc_bias).reshape((3,1)))\n",
    "                # print(f_ns)\n",
    "                # print(\"-------\")    \n",
    "                assert f_ns.shape == (3,1)\n",
    "                \n",
    "                p_ = p_est[k-1, :].reshape((3,1)) + (v_est[k-1, :]*dt).reshape((3,1)) + 0.5*f_ns*dt**2 \n",
    "                v_ = v_est[k-1, :].reshape((3,1)) + f_ns*dt\n",
    "                R_predict = R_ns @ expm(skew_symmetric((R_imu2body@gyro_data[k]-gyro_bias)*dt))\n",
    "                # print(gyro_data[k])\n",
    "                # print(\"---\")\n",
    "                q_ = rot2quat(R_predict).reshape((4,1))\n",
    "                \n",
    "                # 1.1 get motion model Jacobian\n",
    "                # F = np.eye(9)\n",
    "                # F[0:3, 3:6] = np.eye(3)*dt\n",
    "                # F[3:6, 6:9] = -R_ns @ skew_symmetric((acc_data[k]-acc_bias))*dt\n",
    "                # F[6:9, 6:9] = Quaternion(aq_xis_angle=(gyro_data[k]-gyro_bias)*dt).to_mat().T\n",
    "                \n",
    "                zero = np.zeros((3,3))\n",
    "                I = np.eye(3)\n",
    "                F = expm( np.block([[ zero ,   I,                                            zero],\n",
    "                                    [ zero ,   zero, -R_predict @ skew_symmetric(R_imu2body@acc_data[k] - acc_bias)],\n",
    "                                    [ zero ,   zero,      -skew_symmetric(R_imu2body@gyro_data[k]-gyro_bias)]])*dt )\n",
    "\n",
    "                # 1.2 uncertainty propagation\n",
    "                q_cov = np.zeros([9, 9]) # IMU noise covariance\n",
    "                q_cov[0:3, 0:3] = 0.000001*np.eye(3)\n",
    "                q_cov[3:6, 3:6] = acc_cov * np.eye(3) *dt**2\n",
    "                q_cov[6:9, 6:9] = gyro_cov * np.eye(3) *dt**2\n",
    "                \n",
    "                l_jac = np.zeros((9,6))\n",
    "                l_jac[3:, :] = np.eye(6) # motion model noise jacobian\n",
    "                p_cov_ = F @ p_cov[k-1, :, :] @ F.T + q_cov \n",
    "                \n",
    "                # # 1.3 velocity update\n",
    "                # if(k<t_vel.shape[0] and abs(t_imu[k]-t_vel[i]) <= abs(t_imu[k+1]-t_vel[i]) and i<vel_data.shape[0]):\n",
    "                #     p_, v_, q_, p_cov_ = measurement_update(wheel_encoder_cov, vel_data[i, :].reshape((3,1)), p_cov_, p_, v_, q_)\n",
    "                #     i+=1\n",
    "                if i<vel_data.shape[0] and t_imu[k] >= t_vel[i]:\n",
    "                    p_, v_, q_, p_cov_ = measurement_update(wheel_encoder_cov, vel_data[i, :].reshape((3,1)), p_cov_, p_, v_, q_)\n",
    "                    i+=1\n",
    "                \n",
    "                # 1.4 update states\n",
    "                p_est[k, :] = p_.T\n",
    "                v_est[k, :] = v_.T\n",
    "                q_est[k, :] = q_.T\n",
    "                p_cov[k, :, :] = p_cov_.T\n",
    "            #########################################\n",
    "            \n",
    "            save_pose_to_tum(t_imu, p_est, q_est, filename=root_path+\"/result/\"+short_filename+\"/mekf.txt\")\n"
   ]
  },
  {
   "cell_type": "code",
   "execution_count": null,
   "metadata": {},
   "outputs": [],
   "source": [
    "\n",
    "i = 0\n",
    "for k in tqdm(range(1, t_imu.shape[0])): # start at 1 because we have initial state\n",
    "    # Time difference\n",
    "\n",
    "    dt = t_imu[k] - t_imu[k-1]\n",
    "    \n",
    "    # 1. Update state with IMU inputs\n",
    "    # q_prev = Quaternion(*q_est[k-1, :])\n",
    "    # q_curr = Quaternion(axis_angle=(gyro_data[k]-gyro_bias)*dt)\n",
    "    # R_ns = q_prev.to_mat()\n",
    "    R_ns = quat2rot(q_est[k-1, :])\n",
    "    f_ns = (R_ns @ (R_imu2body @ acc_data[k]-acc_bias).reshape((3,1))) - g.reshape((3,1)) # acc_bias in body frame\n",
    "    # print(R_ns @ (R_imu2body @ acc_data[k]-acc_bias).reshape((3,1)))\n",
    "    # print(f_ns)\n",
    "    # print(\"-------\")    \n",
    "    assert f_ns.shape == (3,1)\n",
    "    \n",
    "    p_ = p_est[k-1, :].reshape((3,1)) + (v_est[k-1, :]*dt).reshape((3,1)) + 0.5*f_ns*dt**2 \n",
    "    v_ = v_est[k-1, :].reshape((3,1)) + f_ns*dt\n",
    "    # q_ = q_prev.quat_mult_left(q_curr).reshape((4,1))\n",
    "    R_predict = R_ns @ expm(skew_symmetric((R_imu2body@gyro_data[k]-gyro_bias)*dt))\n",
    "    # print(gyro_data[k])\n",
    "    # print(\"---\")\n",
    "    q_ = rot2quat(R_predict).reshape((4,1))\n",
    "    \n",
    "    # 1.1 get motion model Jacobian\n",
    "    # F = np.eye(9)\n",
    "    # F[0:3, 3:6] = np.eye(3)*dt\n",
    "    # F[3:6, 6:9] = -R_ns @ skew_symmetric((acc_data[k]-acc_bias))*dt\n",
    "    # F[6:9, 6:9] = Quaternion(aq_xis_angle=(gyro_data[k]-gyro_bias)*dt).to_mat().T\n",
    "    \n",
    "    zero = np.zeros((3,3))\n",
    "    I = np.eye(3)\n",
    "    F = expm( np.block([[ zero ,   I,                                            zero],\n",
    "                        [ zero ,   zero, -R_predict @ skew_symmetric(R_imu2body@acc_data[k] - acc_bias)],\n",
    "                        [ zero ,   zero,      -skew_symmetric(R_imu2body@gyro_data[k]-gyro_bias)]])*dt )\n",
    "\n",
    "    # 1.2 uncertainty propagation\n",
    "    q_cov = np.zeros([9, 9]) # IMU noise covariance\n",
    "    q_cov[0:3, 0:3] = 0.000001*np.eye(3)\n",
    "    q_cov[3:6, 3:6] = acc_cov * np.eye(3) *dt**2\n",
    "    q_cov[6:9, 6:9] = gyro_cov * np.eye(3) *dt**2\n",
    "    \n",
    "    l_jac = np.zeros((9,6))\n",
    "    l_jac[3:, :] = np.eye(6) # motion model noise jacobian\n",
    "    p_cov_ = F @ p_cov[k-1, :, :] @ F.T + q_cov \n",
    "    \n",
    "    # # 1.3 velocity update\n",
    "    # if(k<t_vel.shape[0] and abs(t_imu[k]-t_vel[i]) <= abs(t_imu[k+1]-t_vel[i]) and i<vel_data.shape[0]):\n",
    "    #     p_, v_, q_, p_cov_ = measurement_update(wheel_encoder_cov, vel_data[i, :].reshape((3,1)), p_cov_, p_, v_, q_)\n",
    "    #     i+=1\n",
    "    if i<vel_data.shape[0] and t_imu[k] >= t_vel[i]:\n",
    "        p_, v_, q_, p_cov_ = measurement_update(wheel_encoder_cov, vel_data[i, :].reshape((3,1)), p_cov_, p_, v_, q_)\n",
    "        i+=1\n",
    "    \n",
    "    # 1.4 update states\n",
    "    p_est[k, :] = p_.T\n",
    "    v_est[k, :] = v_.T\n",
    "    q_est[k, :] = q_.T\n",
    "    p_cov[k, :, :] = p_cov_.T\n"
   ]
  },
  {
   "cell_type": "code",
   "execution_count": null,
   "metadata": {},
   "outputs": [],
   "source": [
    "save_pose_to_tum(t_imu, p_est, q_est, filename='tum_estimated.txt')"
   ]
  }
 ],
 "metadata": {
  "kernelspec": {
   "display_name": "Python 3",
   "language": "python",
   "name": "python3"
  },
  "language_info": {
   "codemirror_mode": {
    "name": "ipython",
    "version": 3
   },
   "file_extension": ".py",
   "mimetype": "text/x-python",
   "name": "python",
   "nbconvert_exporter": "python",
   "pygments_lexer": "ipython3",
   "version": "3.8.10"
  },
  "orig_nbformat": 4
 },
 "nbformat": 4,
 "nbformat_minor": 2
}
